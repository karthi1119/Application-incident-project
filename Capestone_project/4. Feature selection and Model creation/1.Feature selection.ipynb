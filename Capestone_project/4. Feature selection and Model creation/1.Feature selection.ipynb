{
 "cells": [
  {
   "cell_type": "code",
   "execution_count": 2,
   "id": "3bf89788-5656-472e-b014-010c8a4f97ae",
   "metadata": {},
   "outputs": [],
   "source": [
    "import pandas as pd\n",
    "from sklearn.model_selection import train_test_split \n",
    "from sklearn.preprocessing import StandardScaler\n",
    "from sklearn.feature_selection import SelectKBest, chi2\n",
    "from sklearn.linear_model import LogisticRegression\n",
    "from sklearn.metrics import confusion_matrix, accuracy_score, classification_report\n",
    "from sklearn.svm import SVC\n",
    "from sklearn.naive_bayes import GaussianNB\n",
    "from sklearn.neighbors import KNeighborsClassifier\n",
    "from sklearn.tree import DecisionTreeClassifier\n",
    "from sklearn.ensemble import RandomForestClassifier\n",
    "\n",
    "def selectkbest(indep_X, dep_Y, n):\n",
    "    test = SelectKBest(score_func=chi2, k=n)\n",
    "    fit1 = test.fit(indep_X, dep_Y)\n",
    "    selectk_features = fit1.transform(indep_X)\n",
    "    selected_feature_names = fit1.get_feature_names_out(input_features=indep_X.columns)\n",
    "    return selectk_features, selected_feature_names\n",
    "\n",
    "def split_scalar(indep_X, dep_Y):\n",
    "    X_train, X_test, y_train, y_test = train_test_split(indep_X, dep_Y, test_size=0.25, random_state=0)\n",
    "    sc = StandardScaler()\n",
    "    X_train = sc.fit_transform(X_train)\n",
    "    X_test = sc.transform(X_test)    \n",
    "    return X_train, X_test, y_train, y_test\n",
    "\n",
    "def cm_prediction(classifier, X_test, y_test):\n",
    "    y_pred = classifier.predict(X_test)\n",
    "    cm = confusion_matrix(y_test, y_pred)\n",
    "    Accuracy = accuracy_score(y_test, y_pred)\n",
    "    report = classification_report(y_test, y_pred)\n",
    "    return classifier, Accuracy, report, cm\n",
    "\n",
    "def logistic(X_train, y_train, X_test, y_test):       \n",
    "    classifier = LogisticRegression(random_state=0)\n",
    "    classifier.fit(X_train, y_train)\n",
    "    return cm_prediction(classifier, X_test, y_test)\n",
    "\n",
    "def svm_linear(X_train, y_train, X_test, y_test):\n",
    "    classifier = SVC(kernel='linear', random_state=0)\n",
    "    classifier.fit(X_train, y_train)\n",
    "    return cm_prediction(classifier, X_test, y_test)\n",
    "\n",
    "def svm_NL(X_train, y_train, X_test, y_test):\n",
    "    classifier = SVC(kernel='rbf', random_state=0)\n",
    "    classifier.fit(X_train, y_train)\n",
    "    return cm_prediction(classifier, X_test, y_test)\n",
    "\n",
    "def Navie(X_train, y_train, X_test, y_test):       \n",
    "    classifier = GaussianNB()\n",
    "    classifier.fit(X_train, y_train)\n",
    "    return cm_prediction(classifier, X_test, y_test)\n",
    "\n",
    "def knn(X_train, y_train, X_test, y_test):\n",
    "    classifier = KNeighborsClassifier(n_neighbors=5, metric='minkowski', p=2)\n",
    "    classifier.fit(X_train, y_train)\n",
    "    return cm_prediction(classifier, X_test, y_test)\n",
    "\n",
    "def Decision(X_train, y_train, X_test, y_test):\n",
    "    classifier = DecisionTreeClassifier(criterion='entropy', random_state=0)\n",
    "    classifier.fit(X_train, y_train)\n",
    "    return cm_prediction(classifier, X_test, y_test)\n",
    "\n",
    "def random(X_train, y_train, X_test, y_test):\n",
    "    classifier = RandomForestClassifier(n_estimators=10, criterion='entropy', random_state=0)\n",
    "    classifier.fit(X_train, y_train)\n",
    "    return cm_prediction(classifier, X_test, y_test)\n",
    "\n",
    "def selectk_Classification(acclog, accsvml, accsvmnl, acknn, accnav, accdes, accr):\n",
    "    dataframe = pd.DataFrame(index=['Accuracy'], columns=['Logistic', 'SVMl', 'SVMnl', 'KNN', 'Navie', 'Decision', 'Random'])\n",
    "    dataframe['Logistic'] = acclog\n",
    "    dataframe['SVMl'] = accsvml\n",
    "    dataframe['SVMnl'] = accsvmnl\n",
    "    dataframe['KNN'] = acknn\n",
    "    dataframe['Navie'] = accnav\n",
    "    dataframe['Decision'] = accdes\n",
    "    dataframe['Random'] = accr\n",
    "    return dataframe"
   ]
  },
  {
   "cell_type": "code",
   "execution_count": 10,
   "id": "dc53e058-99ab-4e6f-8bf7-633142d814df",
   "metadata": {},
   "outputs": [],
   "source": [
    "dataset1 = pd.read_csv(\"balanced_dataset.csv\", index_col=None)\n",
    "df2 = pd.get_dummies(dataset1, drop_first=True)\n",
    "\n",
    "indep_X = df2.drop('downtime', axis=1)\n",
    "dep_Y = df2['downtime']\n",
    "# k value = 4\n",
    "kbest_features, selected_feature_names = selectkbest(indep_X, dep_Y, 4)"
   ]
  },
  {
   "cell_type": "code",
   "execution_count": 8,
   "id": "4f088357-542f-4b1f-9efc-84900778a144",
   "metadata": {},
   "outputs": [],
   "source": [
    "X_train, X_test, y_train, y_test = split_scalar(pd.DataFrame(kbest_features), dep_Y)\n",
    "\n",
    "acclog = []\n",
    "accsvml = []\n",
    "accsvmnl = []\n",
    "accknn = []\n",
    "accnav = []\n",
    "accdes = []\n",
    "accrf = []"
   ]
  },
  {
   "cell_type": "code",
   "execution_count": 9,
   "id": "497e509d-9047-4dd9-880f-49fc92f13269",
   "metadata": {},
   "outputs": [
    {
     "name": "stdout",
     "output_type": "stream",
     "text": [
      "Selected feature names: ['response_time' 'error_rate' 'cpu_usage' 'active_users']\n",
      "          Logistic      SVMl     SVMnl       KNN     Navie  Decision    Random\n",
      "Accuracy  0.503425  0.486301  0.582192  0.815068  0.462329  0.736301  0.770548\n"
     ]
    },
    {
     "name": "stderr",
     "output_type": "stream",
     "text": [
      "C:\\Anaconda3\\Lib\\site-packages\\sklearn\\metrics\\_classification.py:1509: UndefinedMetricWarning: Precision is ill-defined and being set to 0.0 in labels with no predicted samples. Use `zero_division` parameter to control this behavior.\n",
      "  _warn_prf(average, modifier, f\"{metric.capitalize()} is\", len(result))\n",
      "C:\\Anaconda3\\Lib\\site-packages\\sklearn\\metrics\\_classification.py:1509: UndefinedMetricWarning: Precision is ill-defined and being set to 0.0 in labels with no predicted samples. Use `zero_division` parameter to control this behavior.\n",
      "  _warn_prf(average, modifier, f\"{metric.capitalize()} is\", len(result))\n",
      "C:\\Anaconda3\\Lib\\site-packages\\sklearn\\metrics\\_classification.py:1509: UndefinedMetricWarning: Precision is ill-defined and being set to 0.0 in labels with no predicted samples. Use `zero_division` parameter to control this behavior.\n",
      "  _warn_prf(average, modifier, f\"{metric.capitalize()} is\", len(result))\n"
     ]
    }
   ],
   "source": [
    "\n",
    "classifier, Accuracy, report, cm = logistic(X_train, y_train, X_test, y_test)\n",
    "acclog.append(Accuracy)\n",
    "\n",
    "classifier, Accuracy, report, cm = svm_linear(X_train, y_train, X_test, y_test)  \n",
    "accsvml.append(Accuracy)\n",
    "\n",
    "classifier, Accuracy, report, cm = svm_NL(X_train, y_train, X_test, y_test)  \n",
    "accsvmnl.append(Accuracy)\n",
    "\n",
    "classifier, Accuracy, report, cm = knn(X_train, y_train, X_test, y_test)  \n",
    "accknn.append(Accuracy)\n",
    "\n",
    "classifier, Accuracy, report, cm = Navie(X_train, y_train, X_test, y_test)  \n",
    "accnav.append(Accuracy)\n",
    "\n",
    "classifier, Accuracy, report, cm = Decision(X_train, y_train, X_test, y_test)  \n",
    "accdes.append(Accuracy)\n",
    "\n",
    "classifier, Accuracy, report, cm = random(X_train, y_train, X_test, y_test)  \n",
    "accrf.append(Accuracy)\n",
    "\n",
    "result = selectk_Classification(acclog, accsvml, accsvmnl, accknn, accnav, accdes, accrf)\n",
    "print(\"Selected feature names:\", selected_feature_names)      \n",
    "print(result)\n"
   ]
  },
  {
   "cell_type": "code",
   "execution_count": null,
   "id": "23216a6b-052f-41c8-aa34-75350dccb898",
   "metadata": {},
   "outputs": [],
   "source": []
  },
  {
   "cell_type": "code",
   "execution_count": null,
   "id": "a06d125d-7988-4f77-9821-82ef57364e20",
   "metadata": {},
   "outputs": [],
   "source": []
  }
 ],
 "metadata": {
  "kernelspec": {
   "display_name": "Python 3 (ipykernel)",
   "language": "python",
   "name": "python3"
  },
  "language_info": {
   "codemirror_mode": {
    "name": "ipython",
    "version": 3
   },
   "file_extension": ".py",
   "mimetype": "text/x-python",
   "name": "python",
   "nbconvert_exporter": "python",
   "pygments_lexer": "ipython3",
   "version": "3.12.4"
  }
 },
 "nbformat": 4,
 "nbformat_minor": 5
}
