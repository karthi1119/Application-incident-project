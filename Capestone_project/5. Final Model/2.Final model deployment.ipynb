{
 "cells": [
  {
   "cell_type": "code",
   "execution_count": 1,
   "id": "60056a1f-7485-44b7-ad5d-f928a78d12e5",
   "metadata": {},
   "outputs": [],
   "source": [
    "import pickle"
   ]
  },
  {
   "cell_type": "code",
   "execution_count": 2,
   "id": "23a92e76-4110-456c-83a4-6b502bf9ba71",
   "metadata": {},
   "outputs": [],
   "source": [
    "loaded_model=pickle.load(open(\"finalized_model_knn.pkl\",\"rb\"))"
   ]
  },
  {
   "cell_type": "code",
   "execution_count": 3,
   "id": "31b63576-c2d1-44af-9d72-c4dd73044834",
   "metadata": {},
   "outputs": [],
   "source": [
    "loaded_model1=pickle.load(open(\"finalized_model_sc.pkl\",\"rb\"))"
   ]
  },
  {
   "cell_type": "code",
   "execution_count": 4,
   "id": "d06ea133-ea67-4894-9b51-b721e9875279",
   "metadata": {},
   "outputs": [
    {
     "name": "stdin",
     "output_type": "stream",
     "text": [
      "Enter the value of response_time: 10\n",
      "Enter the value of error_rate: 200\n",
      "Enter the value of cpu_usage: 30\n",
      "Enter the value of memory_usage: 40\n",
      "Enter the value of active_users: 2\n"
     ]
    },
    {
     "name": "stdout",
     "output_type": "stream",
     "text": [
      "The application is down for next 3 months\n"
     ]
    }
   ],
   "source": [
    "preinput=loaded_model1.transform([[\n",
    "    int(input(\"Enter the value of response_time:\")),\n",
    "    int(input(\"Enter the value of error_rate:\")),\n",
    "    int(input(\"Enter the value of cpu_usage:\")),\n",
    "    int(input(\"Enter the value of memory_usage:\")),\n",
    "    int(input(\"Enter the value of active_users:\"))\n",
    "    ]])\n",
    "result=loaded_model.predict(preinput)\n",
    "if (result==0):\n",
    "    print(\"The application is not down for next 3 months\")\n",
    "else:\n",
    "    print(\"The application is down for next 3 months\")\n"
   ]
  },
  {
   "cell_type": "code",
   "execution_count": null,
   "id": "e695c397-5c64-4f1c-9347-3583fe8e67c5",
   "metadata": {},
   "outputs": [],
   "source": []
  }
 ],
 "metadata": {
  "kernelspec": {
   "display_name": "Python 3 (ipykernel)",
   "language": "python",
   "name": "python3"
  },
  "language_info": {
   "codemirror_mode": {
    "name": "ipython",
    "version": 3
   },
   "file_extension": ".py",
   "mimetype": "text/x-python",
   "name": "python",
   "nbconvert_exporter": "python",
   "pygments_lexer": "ipython3",
   "version": "3.12.4"
  }
 },
 "nbformat": 4,
 "nbformat_minor": 5
}
