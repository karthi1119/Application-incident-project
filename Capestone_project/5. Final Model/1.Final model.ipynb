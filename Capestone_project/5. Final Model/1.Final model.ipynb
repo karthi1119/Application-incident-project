{
 "cells": [
  {
   "cell_type": "code",
   "execution_count": 1,
   "id": "3bf89788-5656-472e-b014-010c8a4f97ae",
   "metadata": {},
   "outputs": [],
   "source": [
    "import pandas as pd\n",
    "from sklearn.model_selection import train_test_split \n",
    "from sklearn.preprocessing import StandardScaler\n",
    "from sklearn.feature_selection import SelectKBest, chi2\n",
    "from sklearn.metrics import confusion_matrix, accuracy_score, classification_report\n",
    "from sklearn.neighbors import KNeighborsClassifier\n",
    "\n",
    "def selectkbest(indep_X, dep_Y, n):\n",
    "    test = SelectKBest(score_func=chi2, k=n)\n",
    "    fit1 = test.fit(indep_X, dep_Y)\n",
    "    selectk_features = fit1.transform(indep_X)\n",
    "    selected_feature_names = fit1.get_feature_names_out(input_features=indep_X.columns)\n",
    "    return selectk_features, selected_feature_names\n",
    "\n",
    "def split_scalar(indep_X, dep_Y):\n",
    "    X_train, X_test, y_train, y_test = train_test_split(indep_X, dep_Y, test_size=0.25, random_state=0)\n",
    "    sc = StandardScaler()\n",
    "    X_train = sc.fit_transform(X_train)\n",
    "    X_test = sc.transform(X_test)    \n",
    "    return X_train, X_test, y_train, y_test,sc\n",
    "\n",
    "def cm_prediction(classifier, X_test, y_test):\n",
    "    y_pred = classifier.predict(X_test)\n",
    "    cm = confusion_matrix(y_test, y_pred)\n",
    "    Accuracy = accuracy_score(y_test, y_pred)\n",
    "    report = classification_report(y_test, y_pred)\n",
    "    return classifier, Accuracy, report, cm\n",
    "\n",
    "def knn(X_train, y_train, X_test, y_test):\n",
    "    classifier = KNeighborsClassifier(algorithm= 'auto', metric= 'minkowski', weights='uniform')\n",
    "    classifier.fit(X_train, y_train)\n",
    "    return cm_prediction(classifier, X_test, y_test)\n",
    "\n",
    "def selectk_Classification(acknn):\n",
    "    dataframe = pd.DataFrame(index=['Accuracy'], columns=['KNN'])\n",
    "    dataframe['KNN'] = acknn\n",
    "    return dataframe"
   ]
  },
  {
   "cell_type": "code",
   "execution_count": 2,
   "id": "dc53e058-99ab-4e6f-8bf7-633142d814df",
   "metadata": {},
   "outputs": [],
   "source": [
    "dataset1 = pd.read_csv(\"balanced_dataset.csv\", index_col=None)\n",
    "df2 = pd.get_dummies(dataset1, drop_first=True)\n",
    "\n",
    "indep_X = df2.drop('downtime', axis=1)\n",
    "dep_Y = df2['downtime']\n",
    "# k value = 5\n",
    "kbest_features, selected_feature_names = selectkbest(indep_X, dep_Y, 5)"
   ]
  },
  {
   "cell_type": "code",
   "execution_count": 3,
   "id": "4f088357-542f-4b1f-9efc-84900778a144",
   "metadata": {},
   "outputs": [],
   "source": [
    "X_train, X_test, y_train, y_test,sc = split_scalar(pd.DataFrame(kbest_features), dep_Y)\n",
    "\n",
    "accknn = []"
   ]
  },
  {
   "cell_type": "code",
   "execution_count": 4,
   "id": "497e509d-9047-4dd9-880f-49fc92f13269",
   "metadata": {},
   "outputs": [
    {
     "name": "stdout",
     "output_type": "stream",
     "text": [
      "Selected feature names: ['response_time' 'error_rate' 'cpu_usage' 'memory_usage' 'active_users']\n",
      "               KNN\n",
      "Accuracy  0.815068\n"
     ]
    }
   ],
   "source": [
    "\n",
    "classifier, Accuracy, report, cm = knn(X_train, y_train, X_test, y_test)  \n",
    "accknn.append(Accuracy)\n",
    "\n",
    "result = selectk_Classification(accknn)\n",
    "print(\"Selected feature names:\", selected_feature_names)      \n",
    "print(result)\n"
   ]
  },
  {
   "cell_type": "code",
   "execution_count": 5,
   "id": "8f79c316-3ef8-4152-86f0-cd21d4099552",
   "metadata": {},
   "outputs": [],
   "source": [
    "import pickle"
   ]
  },
  {
   "cell_type": "code",
   "execution_count": 6,
   "id": "500fc36a-54d9-4628-a36c-760486e12502",
   "metadata": {},
   "outputs": [],
   "source": [
    "filename=\"finalized_model_knn.pkl\""
   ]
  },
  {
   "cell_type": "code",
   "execution_count": 7,
   "id": "0fd80fd1-8b9f-4987-b63f-2d53ca39a280",
   "metadata": {},
   "outputs": [],
   "source": [
    "filename1=\"finalized_model_sc.pkl\""
   ]
  },
  {
   "cell_type": "code",
   "execution_count": 8,
   "id": "8bff0be3-2bc5-4fa3-8ecc-d26903e213fb",
   "metadata": {},
   "outputs": [],
   "source": [
    "pickle.dump(classifier,open(filename,\"wb\"))"
   ]
  },
  {
   "cell_type": "code",
   "execution_count": 9,
   "id": "2d73a93b-7f98-44d1-bc2e-9820dc401e4c",
   "metadata": {},
   "outputs": [],
   "source": [
    "pickle.dump(sc,open(filename1,\"wb\"))"
   ]
  },
  {
   "cell_type": "code",
   "execution_count": 10,
   "id": "b99d2112-f6ec-4f49-9ff7-7f707ef06577",
   "metadata": {},
   "outputs": [],
   "source": [
    "loaded_model=pickle.load(open(\"finalized_model_knn.pkl\",\"rb\"))"
   ]
  },
  {
   "cell_type": "code",
   "execution_count": 11,
   "id": "99ba468f-8f34-419f-9e29-5f426fcac55e",
   "metadata": {},
   "outputs": [],
   "source": [
    "loaded_model1=pickle.load(open(\"finalized_model_sc.pkl\",\"rb\"))"
   ]
  },
  {
   "cell_type": "code",
   "execution_count": 12,
   "id": "ad2e902e-5116-48ac-b00f-ab08bb0fbb31",
   "metadata": {},
   "outputs": [
    {
     "name": "stdin",
     "output_type": "stream",
     "text": [
      "Enter the value of response_time: 10\n",
      "Enter the value of error_rate: 200\n",
      "Enter the value of cpu_usage: 30\n",
      "Enter the value of memory_usage: 40\n",
      "Enter the value of active_users: 2\n"
     ]
    },
    {
     "name": "stdout",
     "output_type": "stream",
     "text": [
      "The application is down for next 3 months\n"
     ]
    }
   ],
   "source": [
    "preinput=loaded_model1.transform([[\n",
    "    int(input(\"Enter the value of response_time:\")),\n",
    "    int(input(\"Enter the value of error_rate:\")),\n",
    "    int(input(\"Enter the value of cpu_usage:\")),\n",
    "    int(input(\"Enter the value of memory_usage:\")),\n",
    "    int(input(\"Enter the value of active_users:\"))\n",
    "    ]])\n",
    "result=loaded_model.predict(preinput)\n",
    "if (result==0):\n",
    "    print(\"The application is not down for next 3 months\")\n",
    "else:\n",
    "    print(\"The application is down for next 3 months\")"
   ]
  },
  {
   "cell_type": "code",
   "execution_count": null,
   "id": "a06d125d-7988-4f77-9821-82ef57364e20",
   "metadata": {},
   "outputs": [],
   "source": []
  }
 ],
 "metadata": {
  "kernelspec": {
   "display_name": "Python 3 (ipykernel)",
   "language": "python",
   "name": "python3"
  },
  "language_info": {
   "codemirror_mode": {
    "name": "ipython",
    "version": 3
   },
   "file_extension": ".py",
   "mimetype": "text/x-python",
   "name": "python",
   "nbconvert_exporter": "python",
   "pygments_lexer": "ipython3",
   "version": "3.12.4"
  }
 },
 "nbformat": 4,
 "nbformat_minor": 5
}
